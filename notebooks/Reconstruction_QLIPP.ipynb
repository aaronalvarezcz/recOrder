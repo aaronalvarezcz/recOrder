{
 "cells": [
  {
   "cell_type": "code",
   "execution_count": 9,
   "metadata": {},
   "outputs": [],
   "source": [
    "from recOrder.compute.qlipp_compute import initialize_reconstructor, reconstruct_qlipp_stokes, reconstruct_phase3D, \\\n",
    "                                            reconstruct_phase2D, reconstruct_qlipp_birefringence\n",
    "from waveorder.io.reader import WaveorderReader\n",
    "from waveorder.io.writer import WaveorderWriter\n",
    "import numpy as np"
   ]
  },
  {
   "cell_type": "markdown",
   "metadata": {},
   "source": [
    "## Setup Fake Data and Initialize Reconstructor"
   ]
  },
  {
   "cell_type": "code",
   "execution_count": 16,
   "metadata": {},
   "outputs": [],
   "source": [
    "data = np.random.random((4, 41, 256, 256)) # (C, Z, Y, X)"
   ]
  },
  {
   "cell_type": "code",
   "execution_count": null,
   "metadata": {},
   "outputs": [],
   "source": [
    "image_dim = (data.shape[-2], data.shape[-1]) # (Y, X)\n",
    "wavelength = 532 # in nm\n",
    "swing = 0.1\n",
    "calibration_scheme = '4-State' # '4-State' or '5-State'\n",
    "NA_obj = 0.4 # Numerical Aperture of Objective\n",
    "NA_illu = 0.2 # Numerical Aperture of Condenser\n",
    "mag = 20 # magnification\n",
    "n_slices = data.shape[-3] # number of slices in z-stack\n",
    "z_step_um = 0.25 # z-step size in um\n",
    "pad_z = 0 # slices to pad for phase reconstruction boundary artifacts\n",
    "pixel_size_um = 6.5 # pixel size in um\n",
    "bg_correction = 'local_fit' # BG correction method: 'None', 'local_fit', 'global'\n",
    "mode = '3D' # phase reconstruction mode, '2D' or '3D'\n",
    "use_gpu = False\n",
    "gpu_id = 0"
   ]
  },
  {
   "cell_type": "code",
   "execution_count": null,
   "metadata": {},
   "outputs": [],
   "source": [
    "# Initialize Reconstructor\n",
    "reconstructor = initialize_reconstructor(pipeline='QLIPP',\n",
    "                                          image_dim=image_dim,\n",
    "                                          wavelength_nm=self.config.wavelength,\n",
    "                                          swing=self.calib_meta['Summary']['Swing (fraction)'],\n",
    "                                          calibration_scheme=self.calib_scheme,\n",
    "                                          NA_obj=self.config.NA_objective,\n",
    "                                          NA_illu=self.config.NA_condenser,\n",
    "                                          n_obj_media=self.config.n_objective_media,\n",
    "                                          mag=self.config.magnification,\n",
    "                                          n_slices=self.data.slices,\n",
    "                                          z_step_um=self.data.z_step_size,\n",
    "                                          pad_z=self.config.pad_z,\n",
    "                                          pixel_size_um=self.config.pixel_size,\n",
    "                                          bg_correction=self.config.background_correction,\n",
    "                                          mode=self.mode,\n",
    "                                          use_gpu=self.config.use_gpu,\n",
    "                                          gpu_id=self.config.gpu_id)"
   ]
  }
 ],
 "metadata": {
  "kernelspec": {
   "display_name": "Python 3",
   "language": "python",
   "name": "python3"
  },
  "language_info": {
   "codemirror_mode": {
    "name": "ipython",
    "version": 3
   },
   "file_extension": ".py",
   "mimetype": "text/x-python",
   "name": "python",
   "nbconvert_exporter": "python",
   "pygments_lexer": "ipython3",
   "version": "3.7.6"
  }
 },
 "nbformat": 4,
 "nbformat_minor": 1
}
